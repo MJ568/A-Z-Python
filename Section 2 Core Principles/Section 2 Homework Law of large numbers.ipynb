{
 "cells": [
  {
   "cell_type": "code",
   "execution_count": 454,
   "metadata": {
    "collapsed": false
   },
   "outputs": [
    {
     "name": "stdout",
     "output_type": "stream",
     "text": [
      "68.374\n"
     ]
    }
   ],
   "source": [
    "import numpy as np\n",
    "from numpy.random import randn\n",
    "N = 100000\n",
    "counter = 0\n",
    "for i in randn(N):\n",
    "    if(i < 1 and i > -1):\n",
    "        counter = counter + 1\n",
    "answer = counter / N * 100\n",
    "print(answer)\n",
    "\n",
    "# The higher the number, the closer it will be to the std dev of 1. Where stdev of 1 is 68.2% in a normal distribution"
   ]
  },
  {
   "cell_type": "code",
   "execution_count": null,
   "metadata": {
    "collapsed": true
   },
   "outputs": [],
   "source": []
  }
 ],
 "metadata": {
  "kernelspec": {
   "display_name": "Python 3",
   "language": "python",
   "name": "python3"
  },
  "language_info": {
   "codemirror_mode": {
    "name": "ipython",
    "version": 3
   },
   "file_extension": ".py",
   "mimetype": "text/x-python",
   "name": "python",
   "nbconvert_exporter": "python",
   "pygments_lexer": "ipython3",
   "version": "3.6.0"
  }
 },
 "nbformat": 4,
 "nbformat_minor": 2
}
